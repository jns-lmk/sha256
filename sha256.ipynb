{
 "cells": [
  {
   "cell_type": "code",
   "execution_count": 47,
   "metadata": {},
   "outputs": [],
   "source": [
    "def all_bits(num_bits: int):\n",
    "    return (1 << num_bits) - 1"
   ]
  },
  {
   "cell_type": "code",
   "execution_count": 48,
   "metadata": {},
   "outputs": [],
   "source": [
    "def bit_not(n):\n",
    "    return ~n & all_bits(32)"
   ]
  },
  {
   "cell_type": "code",
   "execution_count": 49,
   "metadata": {},
   "outputs": [],
   "source": [
    "def ch(x: int, y: int, z: int):\n",
    "    return ( x & y ) ^ ( ~x & z )"
   ]
  },
  {
   "cell_type": "code",
   "execution_count": 50,
   "metadata": {},
   "outputs": [],
   "source": [
    "def maj(x: int, y: int, z: int):\n",
    "    return ( x & y ) ^ ( x & z ) ^ ( y & z )"
   ]
  },
  {
   "cell_type": "code",
   "execution_count": 51,
   "metadata": {},
   "outputs": [],
   "source": [
    "def rot_right(x: int, b: int, bits=32):\n",
    "    return (x >> b) | (x << bits - b)"
   ]
  },
  {
   "cell_type": "code",
   "execution_count": 52,
   "metadata": {},
   "outputs": [],
   "source": [
    "def cap_sigma_0(x: int):\n",
    "    return rot_right(x,2) ^ rot_right(x,13) ^ rot_right(x,22)"
   ]
  },
  {
   "cell_type": "code",
   "execution_count": 53,
   "metadata": {},
   "outputs": [],
   "source": [
    "def cap_sigma_1(x: int):\n",
    "    return rot_right(x,6) ^ rot_right(x,11) ^ rot_right(x,25)"
   ]
  },
  {
   "cell_type": "code",
   "execution_count": 54,
   "metadata": {},
   "outputs": [],
   "source": [
    "def sigma_0(x: int):\n",
    "    return rot_right(x,7) ^ rot_right(x, 18) ^ ( x >> 3 )"
   ]
  },
  {
   "cell_type": "code",
   "execution_count": 55,
   "metadata": {},
   "outputs": [],
   "source": [
    "def sigma_1(x: int):\n",
    "    return rot_right(x,17) ^ rot_right(x,19) ^( x >> 10 )"
   ]
  },
  {
   "cell_type": "code",
   "execution_count": 56,
   "metadata": {},
   "outputs": [
    {
     "data": {
      "text/plain": [
       "64"
      ]
     },
     "execution_count": 56,
     "metadata": {},
     "output_type": "execute_result"
    }
   ],
   "source": [
    "# Konstanten für die Rundenfunktion\n",
    "k = [\n",
    "    0x428a2f98, 0x71374491, 0xb5c0fbcf, 0xe9b5dba5, 0x3956c25b, 0x59f111f1, 0x923f82a4, 0xab1c5ed5,\n",
    "    0xd807aa98, 0x12835b01, 0x243185be, 0x550c7dc3, 0x72be5d74, 0x80deb1fe, 0x9bdc06a7, 0xc19bf174,\n",
    "    0xe49b69c1, 0xefbe4786, 0x0fc19dc6, 0x240ca1cc, 0x2de92c6f, 0x4a7484aa, 0x5cb0a9dc, 0x76f988da,\n",
    "    0x983e5152, 0xa831c66d, 0xb00327c8, 0xbf597fc7, 0xc6e00bf3, 0xd5a79147, 0x06ca6351, 0x14292967,\n",
    "    0x27b70a85, 0x2e1b2138, 0x4d2c6dfc, 0x53380d13, 0x650a7354, 0x766a0abb, 0x81c2c92e, 0x92722c85,\n",
    "    0xa2bfe8a1, 0xa81a664b, 0xc24b8b70, 0xc76c51a3, 0xd192e819, 0xd6990624, 0xf40e3585, 0x106aa070,\n",
    "    0x19a4c116, 0x1e376c08, 0x2748774c, 0x34b0bcb5, 0x391c0cb3, 0x4ed8aa4a, 0x5b9cca4f, 0x682e6ff3,\n",
    "    0x748f82ee, 0x78a5636f, 0x84c87814, 0x8cc70208, 0x90befffa, 0xa4506ceb, 0xbef9a3f7, 0xc67178f2\n",
    "]\n",
    "len(k)"
   ]
  },
  {
   "cell_type": "code",
   "execution_count": 57,
   "metadata": {},
   "outputs": [],
   "source": [
    "message = 'Hello World!'"
   ]
  },
  {
   "cell_type": "code",
   "execution_count": 58,
   "metadata": {},
   "outputs": [],
   "source": [
    "message = bytearray(message, 'ascii')\n",
    "length = len(message) * 8"
   ]
  },
  {
   "cell_type": "code",
   "execution_count": 59,
   "metadata": {},
   "outputs": [],
   "source": [
    "message.append(0b10000000) # Byte mit führender 1 anhängen"
   ]
  },
  {
   "cell_type": "code",
   "execution_count": 60,
   "metadata": {},
   "outputs": [],
   "source": [
    "# Nullen anhängen/auffüllen bis zum Block für die Länge\n",
    "while ( len(message) * 8 + 64 ) % 512 != 0:\n",
    "    message.append(0b00000000) # Null anhängen"
   ]
  },
  {
   "cell_type": "code",
   "execution_count": 61,
   "metadata": {},
   "outputs": [],
   "source": [
    "# Länge berechnen\n",
    "length_block_value = length.to_bytes(8, 'big') # 8 Bytes = 64 Bits\n",
    "\n",
    "# Länge anhängen\n",
    "message += length_block_value"
   ]
  },
  {
   "cell_type": "code",
   "execution_count": 62,
   "metadata": {},
   "outputs": [
    {
     "data": {
      "text/plain": [
       "512"
      ]
     },
     "execution_count": 62,
     "metadata": {},
     "output_type": "execute_result"
    }
   ],
   "source": [
    "len(message) * 8"
   ]
  },
  {
   "cell_type": "code",
   "execution_count": 63,
   "metadata": {},
   "outputs": [
    {
     "name": "stdout",
     "output_type": "stream",
     "text": [
      "48656c6c 6f20576f 726c6421 80000000 00000000 00000000 00000000 00000000\n",
      "00000000 00000000 00000000 00000000 00000000 00000000 00000000 00000060\n"
     ]
    }
   ],
   "source": [
    "for (i,value) in enumerate(''.join('{:02x}'.format(x) for x in message)):\n",
    "    e = \"\" if (i+1) % 8 else \" \"\n",
    "    e = e if (i+1) % 64 else \"\\n\"\n",
    "    print(value, end = e)"
   ]
  },
  {
   "cell_type": "code",
   "execution_count": 64,
   "metadata": {},
   "outputs": [],
   "source": [
    "assert (len(message) * 8) % 512 == 0, \"Padding error!\""
   ]
  },
  {
   "cell_type": "code",
   "execution_count": 71,
   "metadata": {},
   "outputs": [
    {
     "name": "stdout",
     "output_type": "stream",
     "text": [
      "[bytearray(b'Hello World!\\x80\\x00\\x00\\x00\\x00\\x00\\x00\\x00\\x00\\x00\\x00\\x00\\x00\\x00\\x00\\x00\\x00\\x00\\x00\\x00\\x00\\x00\\x00\\x00\\x00\\x00\\x00\\x00\\x00\\x00\\x00\\x00\\x00\\x00\\x00\\x00\\x00\\x00\\x00\\x00\\x00\\x00\\x00\\x00\\x00\\x00\\x00\\x00\\x00\\x00\\x00`')]\n",
      "<class 'bytearray'>\n"
     ]
    }
   ],
   "source": [
    "blocks = []\n",
    "for i in range(0, len(message), 64): # 64 Bytes sind 512 Bits\n",
    "    blocks.append(message[i:i+64]) # 64 Bytes / 512 Bits als einzelnen BLock aufnehmen\n",
    "    \n",
    "print(blocks)\n",
    "print(type(blocks[0]))"
   ]
  },
  {
   "cell_type": "code",
   "execution_count": 66,
   "metadata": {},
   "outputs": [],
   "source": [
    "# Hash-Werte mit IV initialisieren\n",
    "h0=0x6a09e667\n",
    "h1=0xbb67ae85\n",
    "h2=0x3c6ef372\n",
    "h3=0xa54ff53a\n",
    "h4=0x510e527f\n",
    "h5=0x9b05688c\n",
    "h6=0x1f83d9ab\n",
    "h7=0x5be0cd19"
   ]
  },
  {
   "cell_type": "code",
   "execution_count": 67,
   "metadata": {},
   "outputs": [
    {
     "data": {
      "text/plain": [
       "'7f83b1657ff1fc53b92dc18148a1d65dfc2d4b1fa3d677284addd200126d9069'"
      ]
     },
     "execution_count": 67,
     "metadata": {},
     "output_type": "execute_result"
    }
   ],
   "source": [
    "# Jeden Block separate bearbeiten\n",
    "for block in blocks:\n",
    "\n",
    "    # Zwischenspeicher für erweiterten Block initialisieren\n",
    "    block_exp = []\n",
    "\n",
    "    # Jeden Block in 64 Teile mit 32 Bit unterteilen\n",
    "    for t in range(0,64):\n",
    "\n",
    "        # Die ersten 16 Teile einfach nur anhängen\n",
    "        if t < 16:\n",
    "            block_exp.append(bytes(block[t*4:(t*4)+4]))\n",
    "\n",
    "        # Die restlichen 48 anhand der gegebenen Formel erzeugen\n",
    "        else:\n",
    "            # Die einzelnen Werte ermitteln\n",
    "            wim02 = int.from_bytes(block_exp[t-2] ,'big')\n",
    "            wim07 = int.from_bytes(block_exp[t-7] ,'big')\n",
    "            wim15 = int.from_bytes(block_exp[t-15],'big')\n",
    "            wim16 = int.from_bytes(block_exp[t-16],'big')\n",
    "\n",
    "            # Den Wert W von i anhand der vorgegebenen Formel berechnen\n",
    "            wi = sigma_1(wim02) + wim07 + sigma_0(wim15) + wim16\n",
    "\n",
    "            # Den Wert auf 32 Bit bringen und in Big Endian konvertieren\n",
    "            exp = int(wi % 2**32).to_bytes(4, 'big')\n",
    "\n",
    "            # Block anhängen\n",
    "            block_exp.append(exp)\n",
    "\n",
    "    assert len(block_exp) == 64\n",
    "\n",
    "    # Das Arbeitsregister mit den ersten Werten h0-h7 initialisieren\n",
    "    a = h0\n",
    "    b = h1\n",
    "    c = h2\n",
    "    d = h3\n",
    "    e = h4\n",
    "    f = h5\n",
    "    g = h6\n",
    "    h = h7\n",
    "\n",
    "    # Register 64-mal aktualisieren\n",
    "    for t in range(64):\n",
    "\n",
    "        kj = k[t]\n",
    "        wj = int.from_bytes(block_exp[t],'big')\n",
    "\n",
    "        t1 = ( h + cap_sigma_1(e) + ch(e,f,g) + kj + wj ) % 2**32\n",
    "        t2 = ( cap_sigma_0(a) + maj(a,b,c) ) % 2**32\n",
    "\n",
    "        h = g\n",
    "        g = f\n",
    "        f = e\n",
    "        e = ( d + t1 ) % 2**32\n",
    "        d = c\n",
    "        c = b\n",
    "        b = a\n",
    "        a = ( t1 + t2 ) % 2**32\n",
    "\n",
    "    # Den i-ten zwischenzeitlichen Hashwert H(i) ermitteln\n",
    "    h0 = ( a + h0 ) % 2**32\n",
    "    h1 = ( b + h1 ) % 2**32\n",
    "    h2 = ( c + h2 ) % 2**32\n",
    "    h3 = ( d + h3 ) % 2**32\n",
    "    h4 = ( e + h4 ) % 2**32\n",
    "    h5 = ( f + h5 ) % 2**32\n",
    "    h6 = ( g + h6 ) % 2**32\n",
    "    h7 = ( h + h7 ) % 2**32\n",
    "\n",
    "hash_value = (\n",
    "    h0.to_bytes(4, 'big') + \\\n",
    "    h1.to_bytes(4, 'big') + \\\n",
    "    h2.to_bytes(4, 'big') + \\\n",
    "    h3.to_bytes(4, 'big') + \\\n",
    "    h4.to_bytes(4, 'big') + \\\n",
    "    h5.to_bytes(4, 'big') + \\\n",
    "    h6.to_bytes(4, 'big') + \\\n",
    "    h7.to_bytes(4, 'big') )\n",
    "    \n",
    "hash_value.hex()"
   ]
  },
  {
   "cell_type": "code",
   "execution_count": 68,
   "metadata": {},
   "outputs": [
    {
     "name": "stdout",
     "output_type": "stream",
     "text": [
      "7f83b165 7ff1fc53 b92dc181 48a1d65d fc2d4b1f a3d67728 4addd200 126d9069\n"
     ]
    }
   ],
   "source": [
    "for (i,value) in enumerate(hash_value.hex()):\n",
    "    e = \"\" if (i+1) % 8 else \" \"\n",
    "    e = e if (i+1) % 64 else \"\\n\"\n",
    "    print(value, end = e)"
   ]
  },
  {
   "cell_type": "code",
   "execution_count": null,
   "metadata": {},
   "outputs": [],
   "source": []
  }
 ],
 "metadata": {
  "kernelspec": {
   "display_name": "Python 3",
   "language": "python",
   "name": "python3"
  },
  "language_info": {
   "codemirror_mode": {
    "name": "ipython",
    "version": 3
   },
   "file_extension": ".py",
   "mimetype": "text/x-python",
   "name": "python",
   "nbconvert_exporter": "python",
   "pygments_lexer": "ipython3",
   "version": "3.9.17"
  }
 },
 "nbformat": 4,
 "nbformat_minor": 2
}
